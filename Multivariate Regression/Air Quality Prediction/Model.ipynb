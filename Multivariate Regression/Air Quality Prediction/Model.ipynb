{
 "cells": [
  {
   "cell_type": "code",
   "execution_count": 1,
   "metadata": {},
   "outputs": [],
   "source": [
    "import numpy as np\n",
    "from matplotlib import pyplot as plt\n",
    "import pandas as pd"
   ]
  },
  {
   "cell_type": "code",
   "execution_count": 2,
   "metadata": {},
   "outputs": [],
   "source": [
    "train = pd.read_csv(r\"C:\\Users\\hp\\Desktop\\own\\Air pollution-Multivariate regression\\Train\\Train.csv\")\n",
    "test=pd.read_csv(r\"C:\\Users\\hp\\Desktop\\own\\Air pollution-Multivariate regression\\Test\\Test.csv\")"
   ]
  },
  {
   "cell_type": "code",
   "execution_count": 3,
   "metadata": {},
   "outputs": [],
   "source": [
    "train=np.asarray(train)\n",
    "test=np.asarray(test)"
   ]
  },
  {
   "cell_type": "code",
   "execution_count": 4,
   "metadata": {},
   "outputs": [],
   "source": [
    "x=train[:,:5] #Extracting all the 5 features\n",
    "y=train[:,5]  #Extracting the output"
   ]
  },
  {
   "cell_type": "code",
   "execution_count": 5,
   "metadata": {},
   "outputs": [
    {
     "name": "stdout",
     "output_type": "stream",
     "text": [
      "(1600, 5) (1600,)\n"
     ]
    }
   ],
   "source": [
    "print(x.shape,y.shape)"
   ]
  },
  {
   "cell_type": "code",
   "execution_count": 6,
   "metadata": {},
   "outputs": [],
   "source": [
    "class MultiVariateLinearRegression:\n",
    "    \n",
    "    def __init__(self, X, y):\n",
    "        self.X = ((X - X.mean(axis=0))/X.std(axis=0))\n",
    "        self.y = y\n",
    "        self.coefs = np.random.uniform(low=-1, high=1, size=(X.shape[1],))\n",
    "        self.bias = np.random.random()\n",
    "        \n",
    "    def compute_loss(self):\n",
    "        losses = []\n",
    "        for x,y in zip(self.X, self.y):\n",
    "            yhat = self.predict(x)\n",
    "            loss = (y - yhat)**2\n",
    "            losses.append(loss)\n",
    "        \n",
    "        losses = np.array(losses)\n",
    "        return losses.sum() / (2 * self.X.shape[0])\n",
    "    \n",
    "    ### Gradient Descent\n",
    "    def calculate_gradients(self):\n",
    "        grad_00 = 0\n",
    "        coefs = list()\n",
    "        \n",
    "        yhat = np.array(self.get_all_preds())\n",
    "        diff = yhat - self.y\n",
    "        grad_00 += diff.sum()/self.X.shape[0]\n",
    "        \n",
    "        for j in range(self.X.shape[1]):\n",
    "            grad = (diff * self.X[:, j]).sum() / self.X.shape[0]\n",
    "            coefs.append(grad)\n",
    "            \n",
    "        coefs = np.array(coefs)\n",
    "        return (grad_00, coefs)\n",
    "        \n",
    "        \n",
    "    def update_weights(self, gradients, learning_rate):\n",
    "        grad_00, coefs = gradients\n",
    "        self.bias = self.bias - (learning_rate * grad_00)\n",
    "        self.coefs = self.coefs - (coefs * learning_rate)\n",
    "    \n",
    "    def predict(self, x):\n",
    "        return self.coefs.dot(x) + self.bias\n",
    "    \n",
    "#     def score(self):\n",
    "#         pass\n",
    "    \n",
    "    def get_all_preds(self):\n",
    "        preds = []\n",
    "        for x in self.X:\n",
    "            preds.append(self.predict(x))\n",
    "        return preds\n",
    "    \n",
    "    def train(self, losses, iterations=1, alpha=0.01):\n",
    "        for _ in range(iterations):\n",
    "            gradients = self.calculate_gradients()\n",
    "            self.update_weights(gradients, alpha)\n",
    "            losses.append(self.compute_loss())\n",
    "        return losses"
   ]
  },
  {
   "cell_type": "code",
   "execution_count": 7,
   "metadata": {},
   "outputs": [],
   "source": [
    "multivariate = MultiVariateLinearRegression(x, y)\n",
    "losses = [multivariate.compute_loss()]  "
   ]
  },
  {
   "cell_type": "code",
   "execution_count": 8,
   "metadata": {},
   "outputs": [
    {
     "data": {
      "text/plain": [
       "[6196.818978395318]"
      ]
     },
     "execution_count": 8,
     "metadata": {},
     "output_type": "execute_result"
    }
   ],
   "source": [
    "losses"
   ]
  },
  {
   "cell_type": "code",
   "execution_count": 9,
   "metadata": {},
   "outputs": [
    {
     "data": {
      "text/plain": [
       "[207.7766577743085,\n",
       " 207.7766577743085,\n",
       " 207.7766577743085,\n",
       " 207.7766577743084,\n",
       " 207.77665777430843,\n",
       " 207.77665777430843,\n",
       " 207.7766577743084,\n",
       " 207.7766577743084,\n",
       " 207.7766577743084,\n",
       " 207.7766577743084]"
      ]
     },
     "execution_count": 9,
     "metadata": {},
     "output_type": "execute_result"
    }
   ],
   "source": [
    "losses = multivariate.train(losses, iterations=400, alpha=0.05)\n",
    "losses[-10:]"
   ]
  },
  {
   "cell_type": "code",
   "execution_count": 10,
   "metadata": {},
   "outputs": [
    {
     "data": {
      "image/png": "[encoded data removed]",
      "text/plain": [
       "<Figure size 432x288 with 1 Axes>"
      ]
     },
     "metadata": {
      "needs_background": "light"
     },
     "output_type": "display_data"
    }
   ],
   "source": [
    "plt.figure()\n",
    "plt.plot(losses)\n",
    "plt.show()"
   ]
  },
  {
   "cell_type": "code",
   "execution_count": 11,
   "metadata": {},
   "outputs": [
    {
     "data": {
      "text/plain": [
       "array([29.59359188, 94.65067684,  8.37544441, 45.52303622,  2.46461534])"
      ]
     },
     "execution_count": 11,
     "metadata": {},
     "output_type": "execute_result"
    }
   ],
   "source": [
    "multivariate.coefs"
   ]
  },
  {
   "cell_type": "markdown",
   "metadata": {},
   "source": [
    "# SKLEARN"
   ]
  },
  {
   "cell_type": "code",
   "execution_count": 12,
   "metadata": {},
   "outputs": [],
   "source": [
    "from sklearn import linear_model"
   ]
  },
  {
   "cell_type": "code",
   "execution_count": 13,
   "metadata": {},
   "outputs": [],
   "source": [
    "regr = linear_model.LinearRegression()"
   ]
  },
  {
   "cell_type": "code",
   "execution_count": 14,
   "metadata": {},
   "outputs": [
    {
     "data": {
      "text/plain": [
       "LinearRegression(copy_X=True, fit_intercept=True, n_jobs=None,\n",
       "         normalize=False)"
      ]
     },
     "execution_count": 14,
     "metadata": {},
     "output_type": "execute_result"
    }
   ],
   "source": [
    "regr.fit(x, y)\n"
   ]
  },
  {
   "cell_type": "code",
   "execution_count": 15,
   "metadata": {},
   "outputs": [
    {
     "name": "stdout",
     "output_type": "stream",
     "text": [
      "Intercept: \n",
      " 4.990966735574957\n",
      "Coefficients: \n",
      " [29.68187118 92.66247759  8.28062089 44.76773522  2.51916121]\n"
     ]
    }
   ],
   "source": [
    "print('Intercept: \\n', regr.intercept_)\n",
    "print('Coefficients: \\n', regr.coef_)"
   ]
  },
  {
   "cell_type": "code",
   "execution_count": 23,
   "metadata": {},
   "outputs": [],
   "source": [
    "# prediction with sklearn\n",
    "predictions=regr.predict(x)"
   ]
  },
  {
   "cell_type": "code",
   "execution_count": 24,
   "metadata": {},
   "outputs": [
    {
     "name": "stdout",
     "output_type": "stream",
     "text": [
      "(1600, 1) (1600, 1)\n"
     ]
    }
   ],
   "source": [
    "predictions=predictions.reshape(-1,1)\n",
    "y=y.reshape(-1,1)\n",
    "print(predictions.shape,y.shape)"
   ]
  },
  {
   "cell_type": "code",
   "execution_count": 25,
   "metadata": {},
   "outputs": [
    {
     "data": {
      "text/plain": [
       "0.9660939669975616"
      ]
     },
     "execution_count": 25,
     "metadata": {},
     "output_type": "execute_result"
    }
   ],
   "source": [
    "regr.score(x,y)"
   ]
  },
  {
   "cell_type": "code",
   "execution_count": 26,
   "metadata": {},
   "outputs": [],
   "source": [
    "predtest=regr.predict(test)"
   ]
  },
  {
   "cell_type": "code",
   "execution_count": 28,
   "metadata": {},
   "outputs": [],
   "source": [
    "df = pd.DataFrame({\"y\" : predtest})      #prediction of value for the Test.csv and storing in the result.csv file\n",
    "df.to_csv(\"result.csv\", index=True) "
   ]
  },
  {
   "cell_type": "code",
   "execution_count": null,
   "metadata": {},
   "outputs": [],
   "source": []
  }
 ],
 "metadata": {
  "kernelspec": {
   "display_name": "Python 3",
   "language": "python",
   "name": "python3"
  },
  "language_info": {
   "codemirror_mode": {
    "name": "ipython",
    "version": 3
   },
   "file_extension": ".py",
   "mimetype": "text/x-python",
   "name": "python",
   "nbconvert_exporter": "python",
   "pygments_lexer": "ipython3",
   "version": "3.7.3"
  }
 },
 "nbformat": 4,
 "nbformat_minor": 2
}
